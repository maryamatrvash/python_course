{
 "cells": [
  {
   "cell_type": "markdown",
   "id": "fb7a8054",
   "metadata": {},
   "source": [
    "<div style=\"color: white;padding-top:18px;text-align:center;background-color:#8B008B;border-radius:15px;border: 1px solid white;\"> \n",
    "    <h3>Exercise 17 (score:120 + 50)</h3>\n",
    "</div>"
   ]
  },
  {
   "cell_type": "markdown",
   "id": "bd5458df",
   "metadata": {},
   "source": [
    "<div style=\"color: black;font-family:Georgia;padding-top:18px;text-align:left;background-color:lightskyblue;border-radius:15px;border: 2px solid cornflowerblue;\">\n",
    "    <h4>Question 01 (Inheritance)(120):</h4>\n",
    "    <p>\n",
    "        Using four different examples, demonstrate all ofthe inheritance types that you have learned.\n",
    "        </p> \n",
    "<li>Single Inheritance</li>\n",
    "<li>Multiple Inheritance</li>\n",
    "<li>Multilevel Inheritance</li> \n",
    "<li>Hierarchical Inheritance</li>\n",
    "    \n",
    "</div>"
   ]
  },
  {
   "cell_type": "code",
   "execution_count": null,
   "id": "99937553-2a26-4787-b365-d46f41243c5e",
   "metadata": {},
   "outputs": [],
   "source": [
    "#Write code here:"
   ]
  },
  {
   "cell_type": "markdown",
   "id": "36b8f615",
   "metadata": {},
   "source": [
    "#### Single"
   ]
  },
  {
   "cell_type": "code",
   "execution_count": 10,
   "id": "ceba3416",
   "metadata": {},
   "outputs": [],
   "source": [
    "class Country:\n",
    "    def __init__(self, name, code):\n",
    "        self.name = name\n",
    "        self.code = code\n",
    "\n",
    "    def __str__(self):\n",
    "        return f\"{self.name}, Code: {self.code}\"  \n",
    "    \n",
    "    def get_code(self):\n",
    "        print(f\"{self.name}: {self.code}\") \n",
    "\n",
    "\n",
    "class City(Country):\n",
    "    def __init__(self, name, code, population):\n",
    "        super().__init__(name, code)\n",
    "        self.popualtion = population \n",
    "\n",
    "    def __str__(self):\n",
    "        return f\"{super().__str__()}, Population: {self.popualtion}\" \n",
    "    \n",
    "    def show_population(self):\n",
    "        print(f\"{self.name}: {self.popualtion}\") "
   ]
  },
  {
   "cell_type": "code",
   "execution_count": 11,
   "id": "c5f2f74d",
   "metadata": {},
   "outputs": [
    {
     "name": "stdout",
     "output_type": "stream",
     "text": [
      "Shiraz, Code: 071, Population: 3000\n",
      "Shiraz: 071\n",
      "Shiraz: 3000\n"
     ]
    }
   ],
   "source": [
    "c2 = City(\"Shiraz\", \"071\", 3000)\n",
    "print(c2) \n",
    "c2.get_code()\n",
    "c2.show_population() "
   ]
  },
  {
   "cell_type": "markdown",
   "id": "15a2f902",
   "metadata": {},
   "source": [
    "#### Multiple"
   ]
  },
  {
   "cell_type": "code",
   "execution_count": 31,
   "id": "a3662542",
   "metadata": {},
   "outputs": [],
   "source": [
    "class Clothes:\n",
    "    def __init__(self, name, model):\n",
    "        self.name = name\n",
    "        self.model = model\n",
    "\n",
    "    def __str__(self):\n",
    "        return f\"Name: {self.name}, Model: {self.model}\" \n",
    "    \n",
    "    def show_model(self):\n",
    "        print(f\"Model: {self.model}\") \n",
    "\n",
    "\n",
    "class Jeans:\n",
    "    def __init__(self, color):\n",
    "        self.color = color\n",
    "\n",
    "    def __str__(self):\n",
    "        return f\"Color: {self.color}\" \n",
    "    \n",
    "\n",
    "class pants(Jeans, Clothes):\n",
    "    def __init__(self, name, color, model):\n",
    "        super().__init__(color) \n",
    "        Clothes.__init__(self, name, model) \n",
    "\n",
    "    def __str__(self):\n",
    "        return f\"{Clothes.__str__(self)}, {super().__str__()}\" "
   ]
  },
  {
   "cell_type": "code",
   "execution_count": 33,
   "id": "31fdc92b",
   "metadata": {},
   "outputs": [
    {
     "name": "stdout",
     "output_type": "stream",
     "text": [
      "Name: p, Model: m1, Color: c1\n",
      "Model: m1\n"
     ]
    }
   ],
   "source": [
    "p1 = pants(\"p\", \"c1\", \"m1\") \n",
    "print(p1)  \n",
    "p1.show_model() "
   ]
  },
  {
   "cell_type": "markdown",
   "id": "e94c0ea9",
   "metadata": {},
   "source": [
    "#### Multilevel "
   ]
  },
  {
   "cell_type": "code",
   "execution_count": 26,
   "id": "cc4498a6",
   "metadata": {},
   "outputs": [],
   "source": [
    "class Animal:\n",
    "    def __init__(self, name, race): \n",
    "        self.name = name\n",
    "        self.race = race\n",
    "\n",
    "    def __str__(self):\n",
    "        return f\"Name: {self.name}, Race: {self.race}\" \n",
    "    \n",
    "\n",
    "class Mammal(Animal):\n",
    "    def __init__(self, name, race, number_of_feet):\n",
    "        super().__init__(name, race)\n",
    "        self.number_of_feet = number_of_feet\n",
    "\n",
    "    def __str__(self):\n",
    "        return f\"{super().__str__()}, Number of feet: {self.number_of_feet}\" \n",
    "    \n",
    "\n",
    "class Cat(Mammal):\n",
    "    def __init__(self, name, race, environment, number_of_feet=4):\n",
    "        super().__init__(name, race, number_of_feet) \n",
    "        self.environment = environment \n",
    "\n",
    "    def __str__(self):\n",
    "        return f\"{super().__str__()}, Environment: {self.environment}\" "
   ]
  },
  {
   "cell_type": "code",
   "execution_count": 27,
   "id": "79ecebff",
   "metadata": {},
   "outputs": [
    {
     "name": "stdout",
     "output_type": "stream",
     "text": [
      "Name: c1, Race: Persian cat, Number of feet: 4, Environment: Iran\n"
     ]
    }
   ],
   "source": [
    "c = Cat(\"c1\", \"Persian cat\", \"Iran\", 4) \n",
    "print(c) "
   ]
  },
  {
   "cell_type": "markdown",
   "id": "fee129f3",
   "metadata": {},
   "source": [
    "#### Hierarchical  "
   ]
  },
  {
   "cell_type": "code",
   "execution_count": 21,
   "id": "b5a7e227",
   "metadata": {},
   "outputs": [],
   "source": [
    "class Education:\n",
    "    def __init__(self, name, address, capacity):\n",
    "        self.name = name \n",
    "        self.address = address\n",
    "        self.capacity = capacity\n",
    "\n",
    "    def __str__(self):\n",
    "        return f\"{self.name}, Address: {self.address}, Capacity: {self.capacity}\" \n",
    "    \n",
    "    def show_address(self):\n",
    "        print(f\"{self.name}: {self.address}\") \n",
    "\n",
    "\n",
    "class University(Education):\n",
    "    def __init__(self, name, code, address, capacity):\n",
    "        self.code = code\n",
    "        super().__init__(name, address, capacity)  \n",
    "\n",
    "    def __str__(self):\n",
    "        return f\"{super().__str__()}, Code: {self.code}\"  \n",
    "    \n",
    "\n",
    "class School(Education):\n",
    "    def __init__(self, name, address, capacity, gender):\n",
    "        super().__init__(name, address, capacity)\n",
    "        self.gender = gender\n",
    "\n",
    "    def __str__(self):\n",
    "        return f\"{super().__str__()}, Gender: {self.gender}\" "
   ]
  },
  {
   "cell_type": "code",
   "execution_count": 23,
   "id": "5ab8a7b6",
   "metadata": {},
   "outputs": [
    {
     "name": "stdout",
     "output_type": "stream",
     "text": [
      "u1, Address: Shiraz, Capacity: 5000, Code: 123\n",
      "u1: Shiraz\n",
      "s1, Address: Tehran, Capacity: 200, Gender: girl\n",
      "s1: Tehran\n"
     ]
    }
   ],
   "source": [
    "u1 = University(\"u1\", \"123\", \"Shiraz\", 5000)  \n",
    "print(u1) \n",
    "u1.show_address() \n",
    "s1 = School(\"s1\", \"Tehran\", 200, \"girl\") \n",
    "print(s1) \n",
    "s1.show_address() "
   ]
  },
  {
   "cell_type": "markdown",
   "id": "d05c947f",
   "metadata": {},
   "source": [
    "<div style=\"color: white;padding-top:18px;text-align:center;background-color:#8B008B;border-radius:15px;border: 1px solid white;\"> \n",
    "    <h3>Exercise 18 (score:180 + 50)</h3>\n",
    "</div>"
   ]
  },
  {
   "cell_type": "markdown",
   "id": "34326ff6",
   "metadata": {},
   "source": [
    "<div style=\"color: black;font-family:Georgia;padding-top:18px;text-align:left;background-color:lightskyblue;border-radius:15px;border: 2px solid cornflowerblue;\">\n",
    "    <h4>Question 01 (Abstraction)(180):</h4>\n",
    "    <p>\n",
    "     Develop a library management system in Python with an abstract base class and specific\n",
    "subclasses using abstraction and polymorphism.\n",
    "    </p>\n",
    "    <p>Abstract Base Class - LibraryItem:</p>\n",
    "    <li>Attributes: ID,title, author.</li>\n",
    "<li>Abstract Method - display_details: Declare withoutimplementation. Subclasses will provide specific\n",
    "details.</li>\n",
    "<p>Subclass - Book:<p>\n",
    "<li>Additional Attributes: pages, genre</li>\n",
    "<li>display_details: Implementto print book's ID,title, author, pages, and genre<li>\n",
    "<p>Subclass - Magazine:</p>\n",
    "<li>Additional Attributes: issue_number, publication_date.</li>\n",
    "<li>display_details: Implementto print magazine's ID,title, issue number, and publication date.</li>\n",
    "<p>Subclass - Article:<p>\n",
    "<li>Additional Attributes: publication_date, summary.</li>\n",
    "<li>display_details: Implementto print article's ID,title, publication date, and summary.</li>\n",
    "</div>"
   ]
  },
  {
   "cell_type": "code",
   "execution_count": 50,
   "id": "2dc85e7c",
   "metadata": {},
   "outputs": [],
   "source": [
    "#Write code here:\n",
    "\n",
    "from abc import ABC, abstractmethod\n",
    "\n",
    "class LibraryItem(ABC): \n",
    "    def __init__(self, id_, title, author):\n",
    "        self.id_ = id_\n",
    "        self.title = title\n",
    "        self.author = author\n",
    "\n",
    "    @abstractmethod\n",
    "    def display_details(self):\n",
    "        pass \n",
    "\n",
    "\n",
    "class Book(LibraryItem):\n",
    "    def __init__(self, id_, title, author, pages, genre):\n",
    "        super().__init__(id_, title, author)\n",
    "        self.pages = pages\n",
    "        self.genre = genre\n",
    "\n",
    "    def display_details(self):\n",
    "        print(f\"Book's ID: {self.id_}, Name: {self.title}, Author: {self.author}, Pages: {self.pages}, Genre: {self.genre}\")\n",
    "\n",
    "\n",
    "class Magazine(LibraryItem):\n",
    "    def __init__(self, id_, title, author, issue_number, publication_date):\n",
    "        super().__init__(id_, title, author)\n",
    "        self.issue_number = issue_number\n",
    "        self.publication_date = publication_date \n",
    "\n",
    "    def display_details(self):\n",
    "        print(f\"Magazine's ID: {self.id_}, Name: {self.title}, Issue Number: {self.issue_number}, Publication: {self.publication_date}\") \n",
    "\n",
    "\n",
    "class Article(LibraryItem):\n",
    "    def __init__(self, id_, title, author, publication_date, summary):\n",
    "        super().__init__(id_, title, author)\n",
    "        self.publication_date = publication_date\n",
    "        self.summary = summary \n",
    "\n",
    "    def display_details(self):\n",
    "        print(f\"Article's ID: {self.id_}, Name: {self.title}, Publication: {self.publication_date}, Summary: {self.summary}\") \n"
   ]
  },
  {
   "cell_type": "code",
   "execution_count": 45,
   "id": "6a17a2eb",
   "metadata": {},
   "outputs": [
    {
     "name": "stdout",
     "output_type": "stream",
     "text": [
      "Book's ID: 123, Name: b1, Author: a, Pages: 200, Genre: gg\n"
     ]
    }
   ],
   "source": [
    "b1 = Book(\"123\", \"b1\", \"a\", 200, \"gg\") \n",
    "b1.display_details() "
   ]
  },
  {
   "cell_type": "code",
   "execution_count": 48,
   "id": "f8032c45",
   "metadata": {},
   "outputs": [
    {
     "name": "stdout",
     "output_type": "stream",
     "text": [
      "Magazine's ID: 222, Name: m1, Issue Number: 4, Publication: 2020\n"
     ]
    }
   ],
   "source": [
    "m1 = Magazine(\"222\", \"m1\", \"b\", 4, 2020) \n",
    "m1.display_details() "
   ]
  },
  {
   "cell_type": "code",
   "execution_count": 51,
   "id": "45bf43ee",
   "metadata": {},
   "outputs": [
    {
     "name": "stdout",
     "output_type": "stream",
     "text": [
      "Article's ID: 625, Name: a1, Publication: 2023, Summary: aaa\n"
     ]
    }
   ],
   "source": [
    "a1 = Article(\"625\", \"a1\", \"c\", 2023, \"aaa\") \n",
    "a1.display_details() "
   ]
  },
  {
   "cell_type": "markdown",
   "id": "293056e3",
   "metadata": {},
   "source": [
    "<h2 style=\"color: blue:; background-color: purple\">Don't give up on your dreams :)</h2>"
   ]
  }
 ],
 "metadata": {
  "kernelspec": {
   "display_name": "Python 3",
   "language": "python",
   "name": "python3"
  },
  "language_info": {
   "codemirror_mode": {
    "name": "ipython",
    "version": 3
   },
   "file_extension": ".py",
   "mimetype": "text/x-python",
   "name": "python",
   "nbconvert_exporter": "python",
   "pygments_lexer": "ipython3",
   "version": "3.12.1"
  }
 },
 "nbformat": 4,
 "nbformat_minor": 5
}
