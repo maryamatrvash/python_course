{
 "cells": [
  {
   "cell_type": "markdown",
   "id": "ead54e1a",
   "metadata": {},
   "source": [
    "<div style=\"color: white;padding-top:18px;text-align:center;background-color:#610C9F;border-radius:15px;border: 1px solid white;\"> \n",
    "    <h3>Exercise 13 (score:300 + 50(GitHub)\n",
    "    )</h3>\n",
    "</div>"
   ]
  },
  {
   "cell_type": "markdown",
   "id": "9986a78d",
   "metadata": {},
   "source": [
    "<div style=\"color: white;padding-top:18px;text-align:left;background-color:#940B92;border-radius:15px;border: 1px solid white;\"> \n",
    "    <h4>Question 01 (OOP)(100):</h4>\n",
    "    <p>Create a class Rectangle with attributes length and width and methods area(),\n",
    "</p>\n",
    "<p>perimeter() and display()for show length and width. Test your class by creating</p>\n",
    "<p>two objects and call attributes and methods forthis objects</p>\n",
    "</div>"
   ]
  },
  {
   "cell_type": "code",
   "execution_count": 38,
   "id": "7710ae23",
   "metadata": {},
   "outputs": [],
   "source": [
    "# write code here:\n",
    "\n",
    "class Rectangle:\n",
    "    def __init__(self, length, width):\n",
    "        self.length = length\n",
    "        self.width = width \n",
    "    \n",
    "    def area(self):\n",
    "        area = self.length * self.width  \n",
    "        print(f\"Area: {area}\") \n",
    "\n",
    "    def perimeter(self):\n",
    "        p = (self.length + self.width) * 2\n",
    "        print(f\"Perimeter: {p}\") \n",
    "\n",
    "    def display(self):\n",
    "        print(f\"Length: {self.length}\")\n",
    "        print(f\"Width: {self.width}\")  \n"
   ]
  },
  {
   "cell_type": "code",
   "execution_count": 40,
   "id": "3759b9b4",
   "metadata": {},
   "outputs": [
    {
     "name": "stdout",
     "output_type": "stream",
     "text": [
      "{'length': 3, 'width': 2}\n",
      "Area: 6\n",
      "Perimeter: 10\n",
      "Length: 3\n",
      "Width: 2\n"
     ]
    }
   ],
   "source": [
    "r1 = Rectangle(3, 2)   \n",
    "print(vars(r1)) \n",
    "r1.area() \n",
    "r1.perimeter() \n",
    "r1.display()"
   ]
  },
  {
   "cell_type": "code",
   "execution_count": 41,
   "id": "2a652820",
   "metadata": {},
   "outputs": [
    {
     "name": "stdout",
     "output_type": "stream",
     "text": [
      "{'length': 6, 'width': 4}\n",
      "Area: 24\n",
      "Perimeter: 20\n",
      "Length: 6\n",
      "Width: 4\n"
     ]
    }
   ],
   "source": [
    "r2 = Rectangle(6, 4)\n",
    "print(vars(r2)) \n",
    "r2.area() \n",
    "r2.perimeter() \n",
    "r2.display()"
   ]
  },
  {
   "cell_type": "markdown",
   "id": "488e01d2",
   "metadata": {},
   "source": [
    "<div style=\"color: white;padding-top:18px;text-align:left;background-color:#940B92;border-radius:15px;border: 1px solid white;\"> \n",
    "    <h4>Question 02 (OOP)(100)</h4>\n",
    "<p> Create a Class Calculator</p>\n",
    "<p>Methods: Should include at least add(x, y), subtract(x, y), multiply(x, y), \n",
    "and divide(x, y). Each method performs the respective operation and \n",
    "returns the result.</p>"
   ]
  },
  {
   "cell_type": "code",
   "execution_count": 342,
   "id": "0d6db2ad",
   "metadata": {},
   "outputs": [],
   "source": [
    "# write code here:\n",
    "\n",
    "class Calculator:\n",
    " \n",
    "    def add(x, y): \n",
    "        return x + y \n",
    "    \n",
    "    \n",
    "    def subtract(x, y):\n",
    "        return x - y \n",
    "    \n",
    "    def multiply(x, y):\n",
    "        return x * y \n",
    "    \n",
    "    def divide(x, y):\n",
    "        return x / y "
   ]
  },
  {
   "cell_type": "code",
   "execution_count": 343,
   "id": "49f448f3",
   "metadata": {},
   "outputs": [
    {
     "name": "stdout",
     "output_type": "stream",
     "text": [
      "9\n",
      "-6\n",
      "35\n",
      "3.0\n"
     ]
    }
   ],
   "source": [
    "a = Calculator.add(3, 6) \n",
    "print(a) \n",
    "sub = Calculator.subtract(2, 8)\n",
    "print(sub)\n",
    "mul = Calculator.multiply(5, 7)\n",
    "print(mul) \n",
    "div = Calculator.divide(6, 2) \n",
    "print(div) "
   ]
  },
  {
   "cell_type": "markdown",
   "id": "021be85c",
   "metadata": {},
   "source": [
    "<div style=\"color: white;padding-top:18px;text-align:left;background-color:#940B92;border-radius:15px;border: 1px solid white;\"> \n",
    "    <h4>Question 03 (OOP)(100)</h4>\n",
    "<p><b>Class Counter</b></p>\n",
    "<p>Attribute: count, initially set to zero.</p>\n",
    "<p>Methods:</p>\n",
    " <p>increment(): Increments count by 1.</p>\n",
    " <p>decrement(): Decrements count by 1, but never below zero.</p>\n",
    " <p>reset(): Resets count to zero.</p>\n",
    " <p>get_count(): Returns the current value of count</p>\n",
    "</div>"
   ]
  },
  {
   "cell_type": "code",
   "execution_count": 316,
   "id": "32b3c29d",
   "metadata": {},
   "outputs": [],
   "source": [
    "# write code here: \n",
    "\n",
    "class Counter:\n",
    "    count = 0 \n",
    "    def __init__(self):\n",
    "        self.count = Counter.count \n",
    "\n",
    "    @classmethod\n",
    "    def increment(cls): \n",
    "        cls.count += 1  \n",
    "\n",
    "    @classmethod\n",
    "    def decrement(cls):\n",
    "        cls.count -= 1 \n",
    "        if cls.count < 0:\n",
    "            raise ValueError(\"Decrease below zero!\")   \n",
    "        \n",
    "    @classmethod\n",
    "    def reset(cls): \n",
    "        cls.count = 0 \n",
    "\n",
    "    @classmethod\n",
    "    def get_count(cls):\n",
    "        cls.count  \n",
    "    \n",
    "    def __str__(self):\n",
    "        return f\"count: {self.count}\" "
   ]
  },
  {
   "cell_type": "code",
   "execution_count": 339,
   "id": "1db44379",
   "metadata": {},
   "outputs": [
    {
     "name": "stdout",
     "output_type": "stream",
     "text": [
      "count: 3\n"
     ]
    }
   ],
   "source": [
    "c1 = Counter() \n",
    "c1.increment() \n",
    "#print(c1)\n",
    "#c1.decrement() \n",
    "#c1.reset()\n",
    "#c1.get_count() \n",
    "print(c1)  "
   ]
  },
  {
   "cell_type": "markdown",
   "id": "0e2c870c",
   "metadata": {},
   "source": [
    "<div style=\"color: white;padding-top:18px;text-align:center;background-color:#610C9F;border-radius:15px;border: 1px solid white;\"> \n",
    "    <h3>Exercise 14 (score:200 + 50(GitHub)\n",
    "    )</h3>\n",
    "</div>"
   ]
  },
  {
   "cell_type": "markdown",
   "id": "98cda4ff",
   "metadata": {},
   "source": [
    "<div style=\"color: white;padding-top:18px;text-align:left;background-color:#940B92;border-radius:15px;border: 1px solid white;\"> \n",
    "    <h4>Question 01 (methods, attribute)(200)</h4>\n",
    "<p>You need to create a Python class Book with the following specifications:<p>\n",
    "<p>Each book has a id,title, year, author, price, and discount(all provided when the book is\n",
    "created).<p>\n",
    "<p>The id of each book follows a specific format:the firsttwo characters should be letters,and the lasttwo should be digits (e.g.,\"AB12\"). Ifthe ID is not valid,raise a ValueError.<p>\n",
    "<p>The class should include a method to calculate the total price ofthe book. The total price is calculated as the book’s price minus the discount.<p>\n",
    "<p>Include a method that prints how many books have been created.<p>\n",
    "<p>Implementthe __str__ method thatreturns a string representing the book’s details in\n",
    "the following format: \"Title:{title}, Author:{author}, Year:{year}, Price:{total_price}\".<p>\n",
    "\n",
    "</div>"
   ]
  },
  {
   "cell_type": "code",
   "execution_count": 344,
   "id": "e3856ce6",
   "metadata": {},
   "outputs": [],
   "source": [
    "#WRite code here\n",
    "\n",
    "class Book:\n",
    "    count_books = 0 \n",
    "    def __init__(self, id_, name, year, author, price, discount):\n",
    "        self.is_valid_id(id_) \n",
    "        self.id = id_\n",
    "        self.name = name\n",
    "        self.year = year\n",
    "        self.author = author\n",
    "        self.price = price\n",
    "        self.discount = discount \n",
    "        Book.count_books += 1 \n",
    "        self.total_price() \n",
    "\n",
    "    @staticmethod\n",
    "    def is_valid_id(id_): \n",
    "        if len(id_) != 4 or not(id_[:2].isalpha()) or id_[:2].islower() or not(id_[2:].isdigit()): \n",
    "            raise ValueError(\"Invalid ID\") \n",
    "        \n",
    "    def total_price(self):\n",
    "        self.price -= self.discount / 100 * self.price \n",
    "\n",
    "    @classmethod\n",
    "    def show_number_of_books(cls): \n",
    "        print(f\"Number of books: {cls.count_books}\") \n",
    "\n",
    "    def __str__(self):\n",
    "        return f\"Title: {self.name}, Author: {self.author}, Year: {self.year}, Price: {self.price}\"  \n"
   ]
  },
  {
   "cell_type": "code",
   "execution_count": 345,
   "id": "5ed89342",
   "metadata": {},
   "outputs": [
    {
     "name": "stdout",
     "output_type": "stream",
     "text": [
      "Title: book1, Author: mm, Year: 2020, Price: 900.0\n",
      "Title: book2, Author: gt, Year: 1998, Price: 200.0\n",
      "Number of books: 2\n"
     ]
    }
   ],
   "source": [
    "b1 = Book(\"AB12\", \"book1\", 2020, \"mm\", 1000, 10)  \n",
    "b2 = Book(\"BC34\", \"book2\", 1998, \"gt\", 200, 0) \n",
    "print(b1)\n",
    "print(b2) \n",
    "Book.show_number_of_books() "
   ]
  }
 ],
 "metadata": {
  "kernelspec": {
   "display_name": "Python 3 (ipykernel)",
   "language": "python",
   "name": "python3"
  },
  "language_info": {
   "codemirror_mode": {
    "name": "ipython",
    "version": 3
   },
   "file_extension": ".py",
   "mimetype": "text/x-python",
   "name": "python",
   "nbconvert_exporter": "python",
   "pygments_lexer": "ipython3",
   "version": "3.12.1"
  }
 },
 "nbformat": 4,
 "nbformat_minor": 5
}
