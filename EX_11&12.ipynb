{
 "cells": [
  {
   "cell_type": "markdown",
   "id": "fb7a8054",
   "metadata": {},
   "source": [
    "<div style=\"color: white;padding-top:18px;text-align:center;background-color:#8B008B;border-radius:15px;border: 1px solid white;\"> \n",
    "    <h3>Exercise 11 (score:300 + 50)</h3>\n",
    "</div>"
   ]
  },
  {
   "cell_type": "markdown",
   "id": "bd5458df",
   "metadata": {},
   "source": [
    "<div style=\"color: black;font-family:Georgia;padding-top:18px;text-align:left;background-color:lightskyblue;border-radius:15px;border: 2px solid cornflowerblue;\">\n",
    "    <h4>Question 01 (Tuple)(100):</h4>\n",
    "    <p>\n",
    "        Create a Python program with below details:\n",
    "        </p>\n",
    "<li>Input a count of students.</li> \n",
    "<li>Collect each student's unique ID, name, and score into tuples.</li>\n",
    "<li>Store these tuples in a list.</li>\n",
    "<li>Input a name to search the list.</li> \n",
    "<li>Display the matching student's details, if found..</li>\n",
    "    \n",
    "</div>"
   ]
  },
  {
   "cell_type": "code",
   "execution_count": 12,
   "id": "99937553-2a26-4787-b365-d46f41243c5e",
   "metadata": {},
   "outputs": [
    {
     "name": "stdout",
     "output_type": "stream",
     "text": [
      "[('123', 'a', 19), ('453', 'b', 16), ('623', 't', 15)]\n"
     ]
    }
   ],
   "source": [
    "#Write code here:\n",
    "count = int(input(\"Enter number of students: \"))\n",
    "ids = []\n",
    "names = []\n",
    "scores = []\n",
    "for i in range(count):\n",
    "    id = input(f\"Enter ID of student{i+1}: \") \n",
    "    if id not in ids:\n",
    "        ids.append(id)\n",
    "    else:\n",
    "        new_id = input(f\"Exist! Enter new ID of student{i+1}: \")\n",
    "        while new_id in ids:\n",
    "            new_id = input(f\"Exist! Enter new ID of student{i+1}: \")\n",
    "        ids.append(new_id) \n",
    "    name = input(f\"Enter name of student{i+1}: \")\n",
    "    names.append(name)\n",
    "    score = int(input(f\"Enter score of student{i+1}: \"))\n",
    "    scores.append(score)\n",
    "students = list(zip(ids, names, scores))\n",
    "print(students) "
   ]
  },
  {
   "cell_type": "code",
   "execution_count": 13,
   "id": "5a5941af",
   "metadata": {},
   "outputs": [
    {
     "name": "stdout",
     "output_type": "stream",
     "text": [
      "('123', 'a', 19)\n"
     ]
    }
   ],
   "source": [
    "#search\n",
    "search_name = input(\"Enter name for search: \")\n",
    "for info in students:\n",
    "    if info[1] == search_name:\n",
    "        print(info) "
   ]
  },
  {
   "cell_type": "markdown",
   "id": "014bb5de",
   "metadata": {},
   "source": [
    "<div style=\"color: black;font-family:Georgia;padding-top:18px;text-align:left;background-color:lightskyblue;border-radius:15px;border: 2px solid cornflowerblue;\">\n",
    "    <h4>Question 02 (set)(100):</h4>\n",
    "    <p>\n",
    "    Given two lists: list1 = [1, 2, 3, 4, 5, 6, 6, 7] and list2 = [5, 6, 7, 8, 9], write a \n",
    "program to create a list that contains only the unique elements from \n",
    "both list1 and list2. (using set)\n",
    "</p>\n",
    "</div>"
   ]
  },
  {
   "cell_type": "code",
   "execution_count": 11,
   "id": "49ba7c47",
   "metadata": {},
   "outputs": [
    {
     "name": "stdout",
     "output_type": "stream",
     "text": [
      "[1, 2, 3, 4, 5, 6, 7, 8, 9]\n"
     ]
    }
   ],
   "source": [
    "#Write code here:\n",
    "unique = set()\n",
    "list1 = [1, 2, 3, 4, 5, 6, 6, 7]\n",
    "list2 = [5, 6, 7, 8, 9]\n",
    "unique.update(list1)\n",
    "unique.update(list2)\n",
    "print(list(unique))"
   ]
  },
  {
   "cell_type": "markdown",
   "id": "5c81e750",
   "metadata": {},
   "source": [
    "<div style=\"color: black;font-family:Georgia;padding-top:18px;text-align:left;background-color:lightskyblue;border-radius:15px;border: 2px solid cornflowerblue;\">\n",
    "    <h4>Question 03 (Set)(100):</h4>\n",
    "    <p>\n",
    "    Given a list items containing strings (filenames with extensions) and \n",
    "integers, write a Python program to extract and display the unique file \n",
    "extensions from the filenames in the list. Non-string items should be \n",
    "ignored.\n",
    "</p>\n",
    "</div>"
   ]
  },
  {
   "cell_type": "code",
   "execution_count": 10,
   "id": "50e67dcd",
   "metadata": {},
   "outputs": [
    {
     "name": "stdout",
     "output_type": "stream",
     "text": [
      "{'pdf', 'py', 'ipynb'}\n"
     ]
    }
   ],
   "source": [
    "#Write code here:\n",
    "list1 = ['p1.py', 'p2.py', 'a.pdf', 37, 29, 'b.ipynb', 16]\n",
    "exts = set()\n",
    "list2 = list(filter(lambda x: \".\" in x, map(str, list1)))\n",
    "for file in list2:\n",
    "    ext = file.split(\".\")[-1]\n",
    "    exts.add(ext)\n",
    "print(exts) "
   ]
  },
  {
   "cell_type": "markdown",
   "id": "d05c947f",
   "metadata": {},
   "source": [
    "<div style=\"color: white;padding-top:18px;text-align:center;background-color:#8B008B;border-radius:15px;border: 1px solid white;\"> \n",
    "    <h3>Exercise 12 (score:300 + 50)</h3>\n",
    "</div>"
   ]
  },
  {
   "cell_type": "markdown",
   "id": "34326ff6",
   "metadata": {},
   "source": [
    "<div style=\"color: black;font-family:Georgia;padding-top:18px;text-align:left;background-color:lightskyblue;border-radius:15px;border: 2px solid cornflowerblue;\">\n",
    "    <h4>Question 01 (Copy)(100):</h4>\n",
    "    <p>\n",
    "     Given dictionary books with book titles and their authors, perform the following:\n",
    "    </p>\n",
    "    <p>books = { \"Book1\":{\"title\": \"Learn Python\",\"authors\":[\"Author A\",\"Author B\"]},\"Book2\":{\"title\": \"AI Basics\",\"authors\":[\"Author C\"]}}</p>\n",
    "    <li>Shallow Copy Experiment:</li>\n",
    "<li>Make a shallow copy of books.</li>\n",
    "<li>Add \"Author D\" to \"Book1\" in this copy.</li>\n",
    "<li>Compare changes in the original dictionary.</li>\n",
    "<p>Deep Copy Experiment: •Create a deep copy of books.</p>\n",
    "<li>Add \"Author E\" to \"Book1\" in the deep copy.</li>\n",
    "<li>Discuss differences observed between the shallow and deep copy results.</li>\n",
    "</div>"
   ]
  },
  {
   "cell_type": "code",
   "execution_count": 5,
   "id": "2dc85e7c",
   "metadata": {},
   "outputs": [
    {
     "name": "stdout",
     "output_type": "stream",
     "text": [
      "{'Book1': {'title': 'Learn Python', 'authors': ['Author A', 'Author B', 'Author D']}, 'Book2': {'title': 'AI Basics', 'authors': ['Author C']}}\n",
      "{'Book1': {'title': 'Learn Python', 'authors': ['Author A', 'Author B', 'Author D']}, 'Book2': {'title': 'AI Basics', 'authors': ['Author C']}}\n"
     ]
    }
   ],
   "source": [
    "#Write code here:\n",
    "books = {\n",
    "    \"Book1\": {\"title\": \"Learn Python\",\"authors\":[\"Author A\",\"Author B\"]},\n",
    "    \"Book2\": {\"title\": \"AI Basics\",\"authors\":[\"Author C\"]} \n",
    "} \n",
    "book2 = books.copy()\n",
    "books[\"Book1\"][\"authors\"].append(\"Author D\")\n",
    "print(books)\n",
    "print(book2)\n",
    "# both books and the copy of books have changed because shallow copy copies only one level  "
   ]
  },
  {
   "cell_type": "code",
   "execution_count": 6,
   "id": "0623c47d",
   "metadata": {},
   "outputs": [
    {
     "name": "stdout",
     "output_type": "stream",
     "text": [
      "{'Book1': {'title': 'Learn Python', 'authors': ['Author A', 'Author B', 'Author E']}, 'Book2': {'title': 'AI Basics', 'authors': ['Author C']}}\n",
      "{'Book1': {'title': 'Learn Python', 'authors': ['Author A', 'Author B']}, 'Book2': {'title': 'AI Basics', 'authors': ['Author C']}}\n"
     ]
    }
   ],
   "source": [
    "import copy\n",
    "books = {\n",
    "    \"Book1\": {\"title\": \"Learn Python\",\"authors\":[\"Author A\",\"Author B\"]},\n",
    "    \"Book2\": {\"title\": \"AI Basics\",\"authors\":[\"Author C\"]} \n",
    "} \n",
    "book3 = copy.deepcopy(books)\n",
    "books[\"Book1\"][\"authors\"].append(\"Author E\")\n",
    "print(books)\n",
    "print(book3)\n",
    "# just books has changed because book3 is deepcopy of books and deepcopy copies until the last level "
   ]
  },
  {
   "cell_type": "markdown",
   "id": "bf88bee7",
   "metadata": {},
   "source": [
    "<div style=\"color: black;font-family:Georgia;padding-top:18px;text-align:left;background-color:lightskyblue;border-radius:15px;border: 2px solid cornflowerblue;\">\n",
    "    <h4>Question 02 (ErrorHandling)(100):</h4>\n",
    "    <p>\n",
    "    Which type of error can’t handle by “Try, Except”? Give an example\n",
    "</p>\n",
    "</div>"
   ]
  },
  {
   "cell_type": "code",
   "execution_count": 7,
   "id": "906e0f5b",
   "metadata": {},
   "outputs": [
    {
     "ename": "SyntaxError",
     "evalue": "incomplete input (2946720181.py, line 3)",
     "output_type": "error",
     "traceback": [
      "\u001b[1;36m  Cell \u001b[1;32mIn[7], line 3\u001b[1;36m\u001b[0m\n\u001b[1;33m    print(\"python\"\u001b[0m\n\u001b[1;37m                  ^\u001b[0m\n\u001b[1;31mSyntaxError\u001b[0m\u001b[1;31m:\u001b[0m incomplete input\n"
     ]
    }
   ],
   "source": [
    "#Write code here:\n",
    "#SyntaxError ===> we should handle these errors by ourselves \n",
    "print(\"python\""
   ]
  },
  {
   "cell_type": "markdown",
   "id": "f31d7edb",
   "metadata": {},
   "source": [
    "<div style=\"color: black;font-family:Georgia;padding-top:18px;text-align:left;background-color:lightskyblue;border-radius:15px;border: 2px solid cornflowerblue;\">\n",
    "    <h4>Question 03 (Part1)(ErrorHandling)(100):</h4>\n",
    "    <p>\n",
    "   Manage the errors of the following codes \n",
    "    </p>\n",
    "    <p>sum = 8</p>  \n",
    "    <p>numbers = [10, 12, 13]</p>\n",
    "    <p>res = sum(numbers)</p> \n",
    "    <p>print(res)</p>\n",
    "</div>"
   ]
  },
  {
   "cell_type": "code",
   "execution_count": 8,
   "id": "c062e680",
   "metadata": {},
   "outputs": [
    {
     "name": "stdout",
     "output_type": "stream",
     "text": [
      "TypeError : 'int' object is not callable\n"
     ]
    }
   ],
   "source": [
    "#Write code here:\n",
    "sum = 8\n",
    "numbers = [10, 12, 13]\n",
    "try:\n",
    "    res = sum(numbers)\n",
    "except TypeError as error:\n",
    "    print(error.__class__.__name__,\":\", error) \n",
    "else:\n",
    "    print(res)"
   ]
  },
  {
   "cell_type": "markdown",
   "id": "2a90c5f6",
   "metadata": {},
   "source": [
    "<div style=\"color: black;font-family:Georgia;padding-top:18px;text-align:left;background-color:lightskyblue;border-radius:15px;border: 2px solid cornflowerblue;\">\n",
    "    <h4>Question 03 (Part2)(ErrorHandling)(100):</h4>\n",
    "    <p>\n",
    "   Manage the errors of the following codes \n",
    "    </p>\n",
    "    <p>numbers = [2, 3, 10, 23]</p>  \n",
    "    <p>numbers.remove(300)</p>\n",
    "    <p>print(numbers[8])</p> \n",
    "</div>"
   ]
  },
  {
   "cell_type": "code",
   "execution_count": 9,
   "id": "965392e2",
   "metadata": {},
   "outputs": [
    {
     "name": "stdout",
     "output_type": "stream",
     "text": [
      "ValueError : list.remove(x): x not in list\n"
     ]
    }
   ],
   "source": [
    "#Write code here:\n",
    "numbers = [2, 3, 10, 23]  \n",
    "try: \n",
    "    numbers.remove(300)\n",
    "    print(numbers[8])\n",
    "except (ValueError, IndexError) as e:\n",
    "    print(e.__class__.__name__,\":\",e)"
   ]
  },
  {
   "cell_type": "markdown",
   "id": "293056e3",
   "metadata": {},
   "source": [
    "<h2 style=\"color: blue:; background-color: purple\">Don't give up on your dreams :)</h2>"
   ]
  }
 ],
 "metadata": {
  "kernelspec": {
   "display_name": "Python 3 (ipykernel)",
   "language": "python",
   "name": "python3"
  },
  "language_info": {
   "codemirror_mode": {
    "name": "ipython",
    "version": 3
   },
   "file_extension": ".py",
   "mimetype": "text/x-python",
   "name": "python",
   "nbconvert_exporter": "python",
   "pygments_lexer": "ipython3",
   "version": "3.12.1"
  }
 },
 "nbformat": 4,
 "nbformat_minor": 5
}
