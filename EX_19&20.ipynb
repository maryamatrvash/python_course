{
 "cells": [
  {
   "cell_type": "markdown",
   "id": "fb7a8054",
   "metadata": {},
   "source": [
    "<div style=\"color: white;padding-top:18px;text-align:center;background-color:#8B008B;border-radius:15px;border: 1px solid white;\"> \n",
    "    <h3>Exercise 19 (score:120 + 50)</h3>\n",
    "</div>"
   ]
  },
  {
   "cell_type": "markdown",
   "id": "bd5458df",
   "metadata": {},
   "source": [
    "<div style=\"color: black;font-family:Georgia;padding-top:18px;text-align:left;background-color:lightskyblue;border-radius:15px;border: 2px solid cornflowerblue;\">\n",
    "    <h4>Question 01 (Encapsulation)(150):</h4>\n",
    "    <p>Design a class called BankAccount with three attributes:</p> \n",
    "    <p>accountNumber (public), balance (protected), password (private).</p>\n",
    "<li>In the BankAccount class, write methods to get and set the balance and password attributes, ensuring proper access control by using getters and setters where necessary.</li>\n",
    "<li>Create a subclass called SavingsAccount, which should try to access the balance and password attributes directly. After encountering access issues, modify the subclass to use the getter and setter methods to access these attributes.</li>\n",
    "<li>Finally, create an object of the BankAccount class and try to access and print the accountNumber, balance, and password attributes directly. Use the getter and setter methods when necessary for accessing the balance and password or changing them.</li> \n",
    "<p>Write comment for:</p>\n",
    "\n",
    "<ul>What happens when accessing each attribute directly.</ul>\n",
    "<ul>Why it is necessary to use getters and setters for certain attributes.</ul>\n",
    "    \n",
    "</div>"
   ]
  },
  {
   "cell_type": "code",
   "execution_count": 12,
   "id": "99937553-2a26-4787-b365-d46f41243c5e",
   "metadata": {},
   "outputs": [],
   "source": [
    "class BankAccount:\n",
    "    def __init__(self, account_number, balance, password):\n",
    "        self.account_number = account_number\n",
    "        self._balance = balance\n",
    "        self.__password = password \n",
    "\n",
    "    @property\n",
    "    def password(self):\n",
    "        return self.__password \n",
    "    \n",
    "    @property\n",
    "    def balance(self):\n",
    "        return self._balance  \n",
    "    \n",
    "    @password.setter\n",
    "    def password(self, new_pwd):\n",
    "        if not isinstance(new_pwd, int):\n",
    "            raise ValueError(\"Password must be int\")\n",
    "        if len(str(new_pwd)) != 4:\n",
    "            raise ValueError(\"Password must be 4 digit\") \n",
    "        self.__password = new_pwd \n",
    "\n",
    "    @balance.setter\n",
    "    def balance(self, new_balance):\n",
    "        self._balance = new_balance"
   ]
  },
  {
   "cell_type": "code",
   "execution_count": 13,
   "id": "ecc0de0d",
   "metadata": {},
   "outputs": [],
   "source": [
    "class SavingsAccount(BankAccount):\n",
    "    def __init__(self, account_number, balance, password):\n",
    "        super().__init__(account_number, balance, password)  "
   ]
  },
  {
   "cell_type": "code",
   "execution_count": 17,
   "id": "45d578b4",
   "metadata": {},
   "outputs": [
    {
     "data": {
      "text/plain": [
       "200"
      ]
     },
     "execution_count": 17,
     "metadata": {},
     "output_type": "execute_result"
    }
   ],
   "source": [
    "b1 = BankAccount(\"123\", 2000, 2376)\n",
    "b1.password\n",
    "b1.password = 1233  # here we use setter to edit the password because it's private and if we dont't write setter we can't edit it \n",
    "b1.password\n",
    "b1.balance\n",
    "b1.balance = 1000\n",
    "b1.balance\n",
    "\n",
    "s1 = SavingsAccount(\"111\", 1000, 3426)\n",
    "s1.balance = 200\n",
    "s1.password\n",
    "s1.balance\n",
    "# if we don't use getter and setter we can't access the attributes out of the class and edit or read them "
   ]
  },
  {
   "cell_type": "markdown",
   "id": "d05c947f",
   "metadata": {},
   "source": [
    "<div style=\"color: white;padding-top:18px;text-align:center;background-color:#8B008B;border-radius:15px;border: 1px solid white;\"> \n",
    "    <h3>Exercise 20 (score:250 + 50)</h3>\n",
    "</div>"
   ]
  },
  {
   "cell_type": "markdown",
   "id": "34326ff6",
   "metadata": {},
   "source": [
    "<div style=\"color: black;font-family:Georgia;padding-top:18px;text-align:left;background-color:lightskyblue;border-radius:15px;border: 2px solid cornflowerblue;\">\n",
    "    <h4>Question 01(OOP) (Project)(180):</h4>\n",
    "    <p>Create a Python project that involves a class named BankAccount with the following attributes and methods:</p>\n",
    "    <p> Attributes:</p>\n",
    "    <li>account_holder: The name of the account holder.</li>\n",
    "    <li>balance: The current balance of the account.</li>\n",
    "    <li>account_number: A unique numeric identifier for the account.</li>\n",
    "<p> Methods:<p>\n",
    "<li>deposit(amount): Adds the specified amount to the account balance.</li>\n",
    "<li> withdraw(amount): Deducts the specified amount from the balance. If the amount exceeds the balance, it should raise a custom exception InsufficientFundsError.<li>\n",
    "<li>check_balance(): Prints the current balance.</li>\n",
    "<li>transfer_to(another_account, amount): Transfers a specified amount to another account, reducing the balance from the current account and adding it to another_account. If the balance is insufficient, raise the InsufficientFundsError.</li>\n",
    "<p>Additionally, implement a custom exception class named InsufficientFundsError that is raised whenever a withdrawal or transfer operation exceeds the available balance.</p>\n",
    "</div>"
   ]
  },
  {
   "cell_type": "code",
   "execution_count": 39,
   "id": "6ced0d6e",
   "metadata": {},
   "outputs": [],
   "source": [
    "class InsufficientFundsError(Exception):\n",
    "    def __init__(self, msg=\"Funds is insufficient\"):\n",
    "        self.message = msg\n",
    "        super().__init__(self.message) "
   ]
  },
  {
   "cell_type": "code",
   "execution_count": 40,
   "id": "8e03d1e3",
   "metadata": {},
   "outputs": [],
   "source": [
    "class BankAccount:\n",
    "    def __init__(self, account_holder, balance, account_number):\n",
    "        self.account_holder = account_holder\n",
    "        self.balance = balance\n",
    "        self.account_number = account_number \n",
    "\n",
    "    def deposit(self, amount):\n",
    "        self.balance += amount \n",
    "\n",
    "    def check_balance(self):\n",
    "        print(self.balance)\n",
    "\n",
    "    def withdraw(self, amount):\n",
    "        if amount > self.balance:\n",
    "            raise InsufficientFundsError\n",
    "        self.balance -= amount\n",
    "\n",
    "    def transfer_to(self, another_account, amount):\n",
    "        if amount > self.balance:\n",
    "            raise InsufficientFundsError\n",
    "        self.balance -= amount\n",
    "        another_account.balance += amount "
   ]
  },
  {
   "cell_type": "code",
   "execution_count": 41,
   "id": "0648bd5b",
   "metadata": {},
   "outputs": [
    {
     "name": "stdout",
     "output_type": "stream",
     "text": [
      "1100\n",
      "900\n",
      "700\n",
      "2200\n"
     ]
    },
    {
     "ename": "InsufficientFundsError",
     "evalue": "Funds is insufficient",
     "output_type": "error",
     "traceback": [
      "\u001b[1;31m---------------------------------------------------------------------------\u001b[0m",
      "\u001b[1;31mInsufficientFundsError\u001b[0m                    Traceback (most recent call last)",
      "Cell \u001b[1;32mIn[41], line 10\u001b[0m\n\u001b[0;32m      8\u001b[0m b1\u001b[38;5;241m.\u001b[39mcheck_balance() \n\u001b[0;32m      9\u001b[0m b2\u001b[38;5;241m.\u001b[39mcheck_balance() \n\u001b[1;32m---> 10\u001b[0m \u001b[43mb1\u001b[49m\u001b[38;5;241;43m.\u001b[39;49m\u001b[43mwithdraw\u001b[49m\u001b[43m(\u001b[49m\u001b[38;5;241;43m900\u001b[39;49m\u001b[43m)\u001b[49m \n",
      "Cell \u001b[1;32mIn[40], line 15\u001b[0m, in \u001b[0;36mBankAccount.withdraw\u001b[1;34m(self, amount)\u001b[0m\n\u001b[0;32m     13\u001b[0m \u001b[38;5;28;01mdef\u001b[39;00m \u001b[38;5;21mwithdraw\u001b[39m(\u001b[38;5;28mself\u001b[39m, amount):\n\u001b[0;32m     14\u001b[0m     \u001b[38;5;28;01mif\u001b[39;00m amount \u001b[38;5;241m>\u001b[39m \u001b[38;5;28mself\u001b[39m\u001b[38;5;241m.\u001b[39mbalance:\n\u001b[1;32m---> 15\u001b[0m         \u001b[38;5;28;01mraise\u001b[39;00m InsufficientFundsError\n\u001b[0;32m     16\u001b[0m     \u001b[38;5;28mself\u001b[39m\u001b[38;5;241m.\u001b[39mbalance \u001b[38;5;241m-\u001b[39m\u001b[38;5;241m=\u001b[39m amount\n",
      "\u001b[1;31mInsufficientFundsError\u001b[0m: Funds is insufficient"
     ]
    }
   ],
   "source": [
    "b1 = BankAccount(\"a\", 1000, \"29863\")\n",
    "b1.deposit(100)\n",
    "b1.check_balance() \n",
    "b1.withdraw(200) \n",
    "b1.check_balance() \n",
    "b2 = BankAccount(\"b\", 2000, \"23765\") \n",
    "b1.transfer_to(b2, 200) \n",
    "b1.check_balance() \n",
    "b2.check_balance() \n",
    "b1.withdraw(900) "
   ]
  },
  {
   "cell_type": "markdown",
   "id": "293056e3",
   "metadata": {},
   "source": [
    "<h2 style=\"color: blue:; background-color: purple\">Don't give up on your dreams :)</h2>"
   ]
  }
 ],
 "metadata": {
  "kernelspec": {
   "display_name": "Python 3",
   "language": "python",
   "name": "python3"
  },
  "language_info": {
   "codemirror_mode": {
    "name": "ipython",
    "version": 3
   },
   "file_extension": ".py",
   "mimetype": "text/x-python",
   "name": "python",
   "nbconvert_exporter": "python",
   "pygments_lexer": "ipython3",
   "version": "3.12.1"
  }
 },
 "nbformat": 4,
 "nbformat_minor": 5
}
